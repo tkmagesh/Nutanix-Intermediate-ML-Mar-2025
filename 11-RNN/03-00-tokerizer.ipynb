{
 "cells": [
  {
   "cell_type": "code",
   "execution_count": null,
   "metadata": {},
   "outputs": [],
   "source": [
    "from tensorflow.keras.preprocessing.text import Tokenizer\n",
    "\n",
    "sentences = [\"I love deep learning\", \"Machine learning is amazing\"]\n",
    "\n",
    "tokenizer = Tokenizer(num_words=5, oov_token=\"<OOV>\")\n",
    "tokenizer.fit_on_texts(sentences)\n",
    "\n",
    "# Convert sentences to sequences (integer encoding)\n",
    "sequences = tokenizer.texts_to_sequences(sentences)\n",
    "\n",
    "# Print results\n",
    "print(\"Word Index:\", tokenizer.word_index)\n",
    "print(\"Sequences:\", sequences)\n"
   ]
  },
  {
   "cell_type": "markdown",
   "metadata": {},
   "source": []
  }
 ],
 "metadata": {
  "kernelspec": {
   "display_name": "ml_int",
   "language": "python",
   "name": "ml_int"
  }
 },
 "nbformat": 4,
 "nbformat_minor": 2
}
